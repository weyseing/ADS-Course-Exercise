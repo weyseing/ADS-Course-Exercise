{
 "cells": [
  {
   "cell_type": "markdown",
   "metadata": {},
   "source": [
    "We have a dataset that shows which users have purchased an iPhone. Our goal in this project is to predict if the customer will purchase an iPhone or not given their gender, age and salary.\n",
    "\n",
    "\n",
    "The data set is stored in the file \"iphone_purchase_records.csv\". You should split the at 70/30, but other choices can be accepted too.\n"
   ]
  },
  {
   "cell_type": "markdown",
   "metadata": {},
   "source": [
    "# Exercise 1\n",
    "\n",
    "Your task is to build a classifier using Naive Bayes algorithm and obtain the accuracy. \n"
   ]
  },
  {
   "cell_type": "code",
   "execution_count": 1,
   "metadata": {},
   "outputs": [],
   "source": [
    "import pandas as pd\n",
    "from pandas import DataFrame\n",
    "import matplotlib.pyplot as plt\n",
    "\n",
    "data = pd.read_csv('./data/iphone_purchase_records.csv')"
   ]
  },
  {
   "cell_type": "code",
   "execution_count": 50,
   "metadata": {},
   "outputs": [
    {
     "data": {
      "text/html": [
       "<div>\n",
       "<style scoped>\n",
       "    .dataframe tbody tr th:only-of-type {\n",
       "        vertical-align: middle;\n",
       "    }\n",
       "\n",
       "    .dataframe tbody tr th {\n",
       "        vertical-align: top;\n",
       "    }\n",
       "\n",
       "    .dataframe thead th {\n",
       "        text-align: right;\n",
       "    }\n",
       "</style>\n",
       "<table border=\"1\" class=\"dataframe\">\n",
       "  <thead>\n",
       "    <tr style=\"text-align: right;\">\n",
       "      <th></th>\n",
       "      <th>Gender</th>\n",
       "      <th>Age</th>\n",
       "      <th>Salary</th>\n",
       "      <th>Purchase Iphone</th>\n",
       "    </tr>\n",
       "  </thead>\n",
       "  <tbody>\n",
       "    <tr>\n",
       "      <th>0</th>\n",
       "      <td>Male</td>\n",
       "      <td>19</td>\n",
       "      <td>19000</td>\n",
       "      <td>0</td>\n",
       "    </tr>\n",
       "    <tr>\n",
       "      <th>1</th>\n",
       "      <td>Male</td>\n",
       "      <td>35</td>\n",
       "      <td>20000</td>\n",
       "      <td>0</td>\n",
       "    </tr>\n",
       "    <tr>\n",
       "      <th>2</th>\n",
       "      <td>Female</td>\n",
       "      <td>26</td>\n",
       "      <td>43000</td>\n",
       "      <td>0</td>\n",
       "    </tr>\n",
       "    <tr>\n",
       "      <th>3</th>\n",
       "      <td>Female</td>\n",
       "      <td>27</td>\n",
       "      <td>57000</td>\n",
       "      <td>0</td>\n",
       "    </tr>\n",
       "    <tr>\n",
       "      <th>4</th>\n",
       "      <td>Male</td>\n",
       "      <td>19</td>\n",
       "      <td>76000</td>\n",
       "      <td>0</td>\n",
       "    </tr>\n",
       "    <tr>\n",
       "      <th>5</th>\n",
       "      <td>Male</td>\n",
       "      <td>27</td>\n",
       "      <td>58000</td>\n",
       "      <td>0</td>\n",
       "    </tr>\n",
       "    <tr>\n",
       "      <th>6</th>\n",
       "      <td>Female</td>\n",
       "      <td>27</td>\n",
       "      <td>84000</td>\n",
       "      <td>0</td>\n",
       "    </tr>\n",
       "    <tr>\n",
       "      <th>7</th>\n",
       "      <td>Female</td>\n",
       "      <td>32</td>\n",
       "      <td>150000</td>\n",
       "      <td>1</td>\n",
       "    </tr>\n",
       "    <tr>\n",
       "      <th>8</th>\n",
       "      <td>Male</td>\n",
       "      <td>25</td>\n",
       "      <td>33000</td>\n",
       "      <td>0</td>\n",
       "    </tr>\n",
       "    <tr>\n",
       "      <th>9</th>\n",
       "      <td>Female</td>\n",
       "      <td>35</td>\n",
       "      <td>65000</td>\n",
       "      <td>0</td>\n",
       "    </tr>\n",
       "  </tbody>\n",
       "</table>\n",
       "</div>"
      ],
      "text/plain": [
       "   Gender  Age  Salary  Purchase Iphone\n",
       "0    Male   19   19000                0\n",
       "1    Male   35   20000                0\n",
       "2  Female   26   43000                0\n",
       "3  Female   27   57000                0\n",
       "4    Male   19   76000                0\n",
       "5    Male   27   58000                0\n",
       "6  Female   27   84000                0\n",
       "7  Female   32  150000                1\n",
       "8    Male   25   33000                0\n",
       "9  Female   35   65000                0"
      ]
     },
     "execution_count": 50,
     "metadata": {},
     "output_type": "execute_result"
    }
   ],
   "source": [
    "data.head(10)"
   ]
  },
  {
   "cell_type": "markdown",
   "metadata": {},
   "source": [
    "# Exercise 2\n",
    "\n",
    "Select 2-3 other classifiers, and compare their performance with Naive Bayes.\n"
   ]
  },
  {
   "cell_type": "code",
   "execution_count": 51,
   "metadata": {},
   "outputs": [
    {
     "data": {
      "text/plain": [
       "numpy.ndarray"
      ]
     },
     "metadata": {},
     "output_type": "display_data"
    },
    {
     "data": {
      "text/plain": [
       "numpy.ndarray"
      ]
     },
     "metadata": {},
     "output_type": "display_data"
    },
    {
     "data": {
      "text/plain": [
       "array([['Male', 19, 19000],\n",
       "       ['Male', 35, 20000],\n",
       "       ['Female', 26, 43000],\n",
       "       ...,\n",
       "       ['Female', 50, 20000],\n",
       "       ['Male', 36, 33000],\n",
       "       ['Female', 49, 36000]], dtype=object)"
      ]
     },
     "metadata": {},
     "output_type": "display_data"
    },
    {
     "data": {
      "text/plain": [
       "array([0, 0, 0, 0, 0, 0, 0, 1, 0, 0, 0, 0, 0, 0, 0, 0, 1, 1, 1, 1, 1, 1,\n",
       "       1, 1, 1, 1, 1, 1, 0, 0, 0, 1, 0, 0, 0, 0, 0, 0, 0, 0, 0, 0, 0, 0,\n",
       "       0, 0, 0, 0, 1, 0, 0, 0, 0, 0, 0, 0, 0, 0, 0, 0, 0, 0, 0, 1, 0, 0,\n",
       "       0, 0, 0, 0, 0, 0, 0, 0, 0, 1, 0, 0, 0, 0, 0, 0, 0, 0, 0, 1, 0, 0,\n",
       "       0, 0, 0, 0, 0, 0, 0, 0, 0, 1, 0, 0, 0, 0, 0, 1, 0, 0, 0, 0, 0, 0,\n",
       "       0, 0, 0, 0, 0, 0, 0, 0, 0, 0, 0, 0, 0, 0, 0, 0, 0, 0, 0, 0, 0, 0,\n",
       "       0, 0, 0, 0, 0, 1, 0, 0, 0, 0, 0, 0, 0, 0, 1, 0, 0, 0, 0, 0, 0, 0,\n",
       "       0, 0, 0, 0, 0, 1, 1, 0, 0, 0, 0, 0, 0, 0, 1, 0, 0, 0, 0, 0, 0, 0,\n",
       "       0, 0, 0, 0, 0, 0, 1, 0, 0, 0, 0, 0, 0, 0, 0, 0, 0, 0, 0, 0, 0, 0,\n",
       "       0, 0, 0, 0, 1, 0, 1, 0, 1, 0, 1, 0, 1, 1, 0, 0, 0, 1, 0, 0, 0, 1,\n",
       "       0, 1, 1, 1, 0, 0, 1, 1, 0, 1, 1, 0, 1, 1, 0, 1, 0, 0, 0, 1, 1, 0,\n",
       "       1, 1, 0, 1, 0, 1, 0, 1, 0, 0, 1, 1, 0, 1, 0, 0, 1, 1, 0, 1, 1, 0,\n",
       "       1, 1, 0, 0, 1, 0, 0, 1, 1, 1, 1, 1, 0, 1, 1, 1, 1, 0, 1, 1, 0, 1,\n",
       "       0, 1, 0, 1, 1, 1, 1, 0, 0, 0, 1, 1, 0, 1, 1, 1, 1, 1, 0, 0, 0, 1,\n",
       "       1, 0, 0, 1, 0, 1, 0, 1, 1, 0, 1, 0, 1, 1, 0, 1, 1, 0, 0, 0, 1, 1,\n",
       "       0, 1, 0, 0, 1, 0, 1, 0, 0, 1, 1, 0, 0, 1, 1, 0, 1, 1, 0, 0, 1, 0,\n",
       "       1, 0, 1, 1, 1, 0, 1, 0, 1, 1, 1, 0, 1, 1, 1, 1, 0, 1, 1, 1, 0, 1,\n",
       "       0, 1, 0, 0, 1, 1, 0, 1, 1, 1, 1, 1, 1, 0, 1, 1, 1, 1, 1, 1, 0, 1,\n",
       "       1, 1, 0, 1], dtype=int64)"
      ]
     },
     "metadata": {},
     "output_type": "display_data"
    }
   ],
   "source": [
    "# Select for first 3 columns for X, and Y for column 4 \n",
    "X = data.iloc[:,:-1].values\n",
    "y = data.iloc[:, 3].values\n",
    "\n",
    "display(type(X))\n",
    "display(type(y))\n",
    "display(X)\n",
    "display(y)"
   ]
  },
  {
   "cell_type": "code",
   "execution_count": 52,
   "metadata": {},
   "outputs": [],
   "source": [
    "# OK, let's convert Gender to number \n",
    "\n",
    "from sklearn.preprocessing import LabelEncoder\n",
    "\n",
    "LE_gender =  LabelEncoder()\n",
    "X[:,0] = LE_gender.fit_transform(X[:,0])"
   ]
  },
  {
   "cell_type": "code",
   "execution_count": 53,
   "metadata": {
    "scrolled": true
   },
   "outputs": [
    {
     "data": {
      "text/plain": [
       "array([1, 1, 0, 0, 1, 1, 0, 0, 1, 0, 0, 0, 1, 1, 1, 1, 1, 1, 1, 0, 1, 0,\n",
       "       1, 0, 1, 1, 1, 0, 1, 1, 1, 0, 0, 0, 1, 1, 0, 1, 0, 0, 0, 0, 1, 1,\n",
       "       0, 1, 1, 0, 1, 0, 0, 0, 0, 0, 0, 0, 0, 1, 1, 0, 1, 1, 0, 1, 0, 1,\n",
       "       1, 0, 0, 0, 1, 0, 0, 0, 1, 1, 1, 0, 0, 0, 1, 1, 1, 1, 0, 0, 1, 0,\n",
       "       1, 1, 1, 0, 1, 0, 0, 0, 0, 1, 1, 0, 1, 1, 0, 0, 0, 1, 0, 1, 1, 0,\n",
       "       0, 0, 1, 1, 1, 1, 1, 1, 1, 1, 0, 1, 0, 1, 0, 0, 1, 1, 1, 0, 1, 1,\n",
       "       1, 0, 0, 1, 0, 1, 0, 1, 1, 0, 1, 1, 0, 0, 0, 0, 1, 1, 0, 1, 1, 0,\n",
       "       1, 0, 1, 1, 1, 0, 1, 1, 0, 1, 0, 0, 0, 0, 1, 0, 1, 1, 0, 0, 0, 0,\n",
       "       0, 1, 1, 0, 1, 0, 0, 1, 0, 1, 0, 0, 1, 1, 1, 0, 1, 1, 1, 1, 0, 0,\n",
       "       1, 1, 1, 1, 0, 0, 0, 0, 0, 0, 0, 0, 0, 1, 0, 1, 1, 0, 1, 1, 0, 1,\n",
       "       0, 1, 1, 1, 0, 1, 0, 1, 0, 0, 0, 1, 1, 1, 0, 1, 1, 0, 0, 0, 1, 1,\n",
       "       0, 0, 0, 0, 0, 0, 1, 0, 0, 1, 0, 0, 0, 0, 0, 1, 0, 0, 0, 1, 0, 0,\n",
       "       1, 0, 1, 1, 0, 1, 0, 0, 1, 1, 0, 1, 1, 1, 0, 0, 0, 1, 1, 0, 1, 0,\n",
       "       0, 0, 1, 0, 1, 1, 1, 1, 0, 0, 1, 0, 1, 1, 0, 1, 0, 1, 0, 1, 0, 0,\n",
       "       1, 0, 0, 1, 0, 0, 0, 0, 0, 1, 1, 1, 0, 0, 1, 0, 0, 0, 1, 0, 1, 0,\n",
       "       1, 0, 1, 1, 1, 0, 1, 1, 0, 1, 0, 1, 0, 0, 1, 0, 1, 0, 1, 1, 0, 1,\n",
       "       0, 0, 1, 1, 1, 0, 1, 1, 1, 0, 0, 0, 1, 0, 0, 1, 1, 0, 0, 1, 0, 1,\n",
       "       0, 0, 0, 0, 1, 0, 1, 1, 0, 1, 0, 1, 0, 1, 1, 0, 1, 1, 0, 1, 0, 0,\n",
       "       1, 0, 1, 0], dtype=object)"
      ]
     },
     "execution_count": 53,
     "metadata": {},
     "output_type": "execute_result"
    }
   ],
   "source": [
    "X[:,0]"
   ]
  },
  {
   "cell_type": "code",
   "execution_count": 54,
   "metadata": {},
   "outputs": [],
   "source": [
    "# now, split data for train and test\n",
    "from sklearn.model_selection import train_test_split\n",
    "\n",
    "X_train, X_test, y_train, y_test = train_test_split(X, y, test_size=0.3, random_state=0)"
   ]
  },
  {
   "cell_type": "markdown",
   "metadata": {},
   "source": [
    "## Let's use DecisionTreeClassifier\n",
    "\n"
   ]
  },
  {
   "cell_type": "code",
   "execution_count": 55,
   "metadata": {},
   "outputs": [
    {
     "data": {
      "text/plain": [
       "array([0, 0, 0, 0, 0, 0, 0, 1, 0, 1, 0, 0, 0, 0, 0, 1, 0, 0, 1, 0, 0, 0,\n",
       "       0, 1, 0, 0, 0, 0, 0, 0, 0, 0, 1, 0, 0, 0, 0, 0, 0, 1, 0, 0, 0, 0,\n",
       "       1, 0, 0, 0, 0, 1, 1, 0, 0, 1, 1, 1, 0, 0, 1, 0, 0, 1, 0, 1, 0, 1,\n",
       "       0, 0, 0, 1, 1, 0, 0, 1, 0, 0, 0, 0, 1, 1, 1, 1, 0, 0, 1, 0, 1, 1,\n",
       "       1, 0, 0, 1, 0, 0, 0, 1, 0, 1, 1, 1, 1, 1, 0, 1, 1, 1, 0, 0, 0, 0,\n",
       "       0, 0, 0, 1, 1, 0, 1, 0, 1, 1], dtype=int64)"
      ]
     },
     "execution_count": 55,
     "metadata": {},
     "output_type": "execute_result"
    }
   ],
   "source": [
    "### USING DecisionTreeClassifier\n",
    "\n",
    "from sklearn.tree import DecisionTreeClassifier\n",
    "\n",
    "dt = DecisionTreeClassifier(random_state=30)\n",
    "\n",
    "dt.fit(X_train,y_train)\n",
    "\n",
    "y_pred = dt.predict(X_test)\n",
    "\n",
    "y_pred"
   ]
  },
  {
   "cell_type": "code",
   "execution_count": 56,
   "metadata": {},
   "outputs": [
    {
     "data": {
      "image/png": "[encoded data removed]",
      "text/plain": [
       "<Figure size 432x288 with 1 Axes>"
      ]
     },
     "metadata": {},
     "output_type": "display_data"
    }
   ],
   "source": [
    "# Create the Confusion Matrix and Evaluate the accuracy\n",
    "\n",
    "from sklearn.metrics import classification_report,confusion_matrix\n",
    "import seaborn as sns; sns.set()\n",
    "import matplotlib.pyplot as plt\n",
    "\n",
    "mat = confusion_matrix(y_test, y_pred)\n",
    "sns.heatmap(mat.T, square=True, annot=True, fmt='d', cbar=False)\n",
    "plt.xlabel('true label')\n",
    "plt.ylabel('predicted label');"
   ]
  },
  {
   "cell_type": "code",
   "execution_count": 57,
   "metadata": {},
   "outputs": [
    {
     "name": "stdout",
     "output_type": "stream",
     "text": [
      "precision score: 0.868016\n",
      "recall score: 0.876196\n",
      "Accuracy:0.883333\n"
     ]
    }
   ],
   "source": [
    "# Print details as well\n",
    "\n",
    "from sklearn.metrics import precision_score, recall_score, accuracy_score\n",
    "\n",
    "precision_sdt = precision_score(y_test, y_pred, average='macro')\n",
    "print('precision score: {0:f}'.format (precision_sdt))\n",
    "\n",
    "recall_sdt = recall_score(y_test,y_pred, average='macro')\n",
    "print('recall score: {0:f}'.format (recall_sdt))\n",
    "\n",
    "score_dt = accuracy_score(y_test,dt.predict(X_test))\n",
    "print('Accuracy:{0:f}'.format(score_dt))"
   ]
  },
  {
   "cell_type": "markdown",
   "metadata": {},
   "source": [
    "## Let's use RandomForest\n",
    "\n"
   ]
  },
  {
   "cell_type": "code",
   "execution_count": 58,
   "metadata": {},
   "outputs": [
    {
     "data": {
      "image/png": "[encoded data removed]",
      "text/plain": [
       "<Figure size 432x288 with 1 Axes>"
      ]
     },
     "metadata": {},
     "output_type": "display_data"
    }
   ],
   "source": [
    "from sklearn.ensemble import RandomForestClassifier \n",
    "\n",
    "randomf = RandomForestClassifier(min_samples_leaf=30, n_estimators=70, n_jobs=-1, oob_score=True)\n",
    "\n",
    "randomf.fit(X_train, y_train)\n",
    "\n",
    "y_pred = randomf.predict(X_test)\n",
    "\n",
    "mat = confusion_matrix(y_test, y_pred)\n",
    "sns.heatmap(mat.T, square=True, annot=True, fmt='d', cbar=False)\n",
    "plt.xlabel('true label')\n",
    "plt.ylabel('predicted label');"
   ]
  },
  {
   "cell_type": "code",
   "execution_count": 59,
   "metadata": {},
   "outputs": [
    {
     "name": "stdout",
     "output_type": "stream",
     "text": [
      "precision score: 0.902222\n",
      "recall score: 0.919111\n",
      "Accuracy:0.916667\n"
     ]
    }
   ],
   "source": [
    "precision_rf = precision_score(y_test, y_pred, average='macro')\n",
    "print('precision score: {0:f}'.format (precision_rf))\n",
    "\n",
    "recall_rf = recall_score(y_test,y_pred, average='macro')\n",
    "print('recall score: {0:f}'.format (recall_rf))\n",
    "\n",
    "score_rf = accuracy_score(y_test,randomf.predict(X_test))\n",
    "print('Accuracy:{0:f}'.format(score_rf))"
   ]
  },
  {
   "cell_type": "markdown",
   "metadata": {},
   "source": [
    "## Let's use Naive Bayes\n",
    "\n"
   ]
  },
  {
   "cell_type": "code",
   "execution_count": 60,
   "metadata": {},
   "outputs": [
    {
     "data": {
      "image/png": "[encoded data removed]",
      "text/plain": [
       "<Figure size 432x288 with 1 Axes>"
      ]
     },
     "metadata": {},
     "output_type": "display_data"
    }
   ],
   "source": [
    "from sklearn.naive_bayes import GaussianNB\n",
    "\n",
    "nb = GaussianNB()\n",
    "nb.fit(X_train, y_train)\n",
    "\n",
    "y_pred = randomf.predict(X_test)\n",
    "\n",
    "mat = confusion_matrix(y_test, y_pred)\n",
    "sns.heatmap(mat.T, square=True, annot=True, fmt='d', cbar=False)\n",
    "plt.xlabel('true label')\n",
    "plt.ylabel('predicted label');"
   ]
  },
  {
   "cell_type": "code",
   "execution_count": 61,
   "metadata": {},
   "outputs": [
    {
     "name": "stdout",
     "output_type": "stream",
     "text": [
      "precision score: 0.902222\n",
      "recall score: 0.919111\n",
      "Accuracy:0.891667\n"
     ]
    }
   ],
   "source": [
    "precision_nb = precision_score(y_test, y_pred, average='macro')\n",
    "print('precision score: {0:f}'.format (precision_nb))\n",
    "\n",
    "recall_nb = recall_score(y_test,y_pred, average='macro')\n",
    "print('recall score: {0:f}'.format (recall_nb))\n",
    "\n",
    "score_nb = accuracy_score(y_test,nb.predict(X_test))\n",
    "print('Accuracy:{0:f}'.format(score_nb))"
   ]
  },
  {
   "cell_type": "code",
   "execution_count": 62,
   "metadata": {},
   "outputs": [
    {
     "data": {
      "text/plain": [
       "array([[1, 30, 87000],\n",
       "       [0, 38, 50000],\n",
       "       [1, 35, 75000],\n",
       "       [0, 30, 79000],\n",
       "       [0, 35, 50000],\n",
       "       [1, 27, 20000],\n",
       "       [0, 31, 15000],\n",
       "       [1, 36, 144000],\n",
       "       [0, 18, 68000],\n",
       "       [1, 47, 43000],\n",
       "       [1, 30, 49000],\n",
       "       [0, 28, 55000],\n",
       "       [1, 37, 55000],\n",
       "       [1, 39, 77000],\n",
       "       [1, 20, 86000],\n",
       "       [0, 32, 117000],\n",
       "       [1, 37, 77000],\n",
       "       [1, 19, 85000],\n",
       "       [0, 55, 130000],\n",
       "       [1, 35, 22000],\n",
       "       [0, 35, 47000],\n",
       "       [0, 47, 144000],\n",
       "       [0, 41, 51000],\n",
       "       [1, 47, 105000],\n",
       "       [0, 23, 28000],\n",
       "       [0, 49, 141000],\n",
       "       [0, 28, 87000],\n",
       "       [1, 29, 80000],\n",
       "       [0, 37, 62000],\n",
       "       [0, 32, 86000],\n",
       "       [1, 21, 88000],\n",
       "       [1, 37, 79000],\n",
       "       [1, 57, 60000],\n",
       "       [1, 37, 53000],\n",
       "       [1, 24, 58000],\n",
       "       [1, 18, 52000],\n",
       "       [1, 22, 81000],\n",
       "       [0, 34, 43000],\n",
       "       [0, 31, 34000],\n",
       "       [0, 49, 36000],\n",
       "       [1, 27, 88000],\n",
       "       [1, 41, 52000],\n",
       "       [0, 27, 84000],\n",
       "       [1, 35, 20000],\n",
       "       [0, 43, 112000],\n",
       "       [0, 27, 58000],\n",
       "       [0, 37, 80000],\n",
       "       [0, 52, 90000],\n",
       "       [1, 26, 30000],\n",
       "       [1, 49, 86000],\n",
       "       [0, 57, 122000],\n",
       "       [0, 34, 25000],\n",
       "       [0, 35, 57000],\n",
       "       [1, 34, 115000],\n",
       "       [0, 59, 88000],\n",
       "       [1, 45, 32000],\n",
       "       [0, 29, 83000],\n",
       "       [0, 26, 80000],\n",
       "       [1, 49, 28000],\n",
       "       [1, 23, 20000],\n",
       "       [1, 32, 18000],\n",
       "       [1, 60, 42000],\n",
       "       [1, 19, 76000],\n",
       "       [1, 36, 99000],\n",
       "       [0, 19, 26000],\n",
       "       [1, 60, 83000],\n",
       "       [0, 24, 89000],\n",
       "       [1, 27, 58000],\n",
       "       [1, 40, 47000],\n",
       "       [0, 42, 70000],\n",
       "       [0, 32, 150000],\n",
       "       [0, 35, 77000],\n",
       "       [0, 22, 63000],\n",
       "       [1, 45, 22000],\n",
       "       [1, 27, 89000],\n",
       "       [1, 18, 82000],\n",
       "       [0, 42, 79000],\n",
       "       [0, 40, 60000],\n",
       "       [0, 53, 34000],\n",
       "       [0, 47, 107000],\n",
       "       [1, 58, 144000],\n",
       "       [0, 59, 83000],\n",
       "       [0, 24, 55000],\n",
       "       [0, 26, 35000],\n",
       "       [0, 58, 38000],\n",
       "       [0, 42, 80000],\n",
       "       [0, 40, 75000],\n",
       "       [1, 59, 130000],\n",
       "       [0, 46, 41000],\n",
       "       [0, 41, 60000],\n",
       "       [1, 42, 64000],\n",
       "       [0, 37, 146000],\n",
       "       [0, 23, 48000],\n",
       "       [1, 25, 33000],\n",
       "       [1, 24, 84000],\n",
       "       [0, 27, 96000],\n",
       "       [1, 23, 63000],\n",
       "       [1, 48, 33000],\n",
       "       [1, 48, 90000],\n",
       "       [1, 42, 104000],\n",
       "       [0, 44, 39000],\n",
       "       [1, 32, 120000],\n",
       "       [0, 38, 50000],\n",
       "       [0, 32, 135000],\n",
       "       [0, 52, 21000],\n",
       "       [0, 53, 104000],\n",
       "       [1, 39, 42000],\n",
       "       [1, 38, 61000],\n",
       "       [0, 36, 50000],\n",
       "       [0, 36, 63000],\n",
       "       [0, 35, 25000],\n",
       "       [1, 35, 50000],\n",
       "       [1, 42, 73000],\n",
       "       [0, 47, 49000],\n",
       "       [0, 59, 29000],\n",
       "       [1, 49, 65000],\n",
       "       [0, 45, 131000],\n",
       "       [0, 31, 89000],\n",
       "       [0, 46, 82000],\n",
       "       [0, 47, 51000]], dtype=object)"
      ]
     },
     "execution_count": 62,
     "metadata": {},
     "output_type": "execute_result"
    }
   ],
   "source": [
    "type(X_test)\n",
    "X_test"
   ]
  },
  {
   "cell_type": "markdown",
   "metadata": {},
   "source": [
    "## Optional Exercise\n",
    "\n",
    "Use t-test to justify whether a classifier is really better than the other."
   ]
  },
  {
   "cell_type": "code",
   "execution_count": 64,
   "metadata": {},
   "outputs": [
    {
     "data": {
      "text/plain": [
       "Text(89.18, 0.5, 'Predicted')"
      ]
     },
     "execution_count": 64,
     "metadata": {},
     "output_type": "execute_result"
    },
    {
     "data": {
      "image/png": "[encoded data removed]",
      "text/plain": [
       "<Figure size 432x288 with 1 Axes>"
      ]
     },
     "metadata": {},
     "output_type": "display_data"
    }
   ],
   "source": [
    "import numpy as np\n",
    "\n",
    "myXtest = [[1,50,8000],[0,30,10000],[0, 35, 47000],[0, 45, 44000],[1, 40, 31000],\n",
    "       [1, 47, 105000],[0, 23, 28000],[0, 35, 47000],[0, 45, 124000],[0, 49, 71000],[1, 57, 185000],[1, 33, 38000]]\n",
    "myYtest = [[1],[0],[1],[1],[0],[1],[1],[1],[0],[1],[0],[1]]\n",
    "\n",
    "#  Use Gaussian Classifier\n",
    "#model = GaussianNB()\n",
    "nb = GaussianNB()\n",
    "\n",
    "# Train the model \n",
    "nb.fit(X_train, y_train)\n",
    "\n",
    "# Predict Output with t-test data\n",
    "y_predicted = nb.predict(myXtest)\n",
    "\n",
    "# Plot Confusion Matrix\n",
    "mat = confusion_matrix(y_predicted, myYtest)\n",
    "#names = np.unique(y_predicted)\n",
    "sns.heatmap(mat.T, square=True, annot=True, fmt='d', cbar=False)\n",
    "#sns.heatmap(mat, square=True, annot=True, fmt='d', cbar=False, xticklabels=names, yticklabels=names)\n",
    "plt.xlabel('Truth')\n",
    "plt.ylabel('Predicted')"
   ]
  },
  {
   "cell_type": "code",
   "execution_count": 65,
   "metadata": {},
   "outputs": [
    {
     "data": {
      "text/plain": [
       "0.4166666666666667"
      ]
     },
     "execution_count": 65,
     "metadata": {},
     "output_type": "execute_result"
    }
   ],
   "source": [
    "accuracy_score(myYtest, y_predicted) "
   ]
  },
  {
   "cell_type": "code",
   "execution_count": 68,
   "metadata": {},
   "outputs": [
    {
     "name": "stdout",
     "output_type": "stream",
     "text": [
      "precision score: 0.442857\n",
      "recall score: 0.437500\n",
      "Accuracy:0.416667\n"
     ]
    }
   ],
   "source": [
    "precision_nb = precision_score(myYtest, y_predicted, average='macro')\n",
    "print('precision score: {0:f}'.format (precision_nb))\n",
    "\n",
    "recall_nb = recall_score(myYtest,y_predicted, average='macro')\n",
    "print('recall score: {0:f}'.format (recall_nb))\n",
    "\n",
    "score_nb = accuracy_score(myYtest,nb.predict(myXtest))\n",
    "print('Accuracy:{0:f}'.format(score_nb))"
   ]
  },
  {
   "cell_type": "markdown",
   "metadata": {},
   "source": [
    "## Or, load test data from csv\n"
   ]
  },
  {
   "cell_type": "code",
   "execution_count": 104,
   "metadata": {},
   "outputs": [
    {
     "name": "stderr",
     "output_type": "stream",
     "text": [
      "C:\\Users\\TUCK_W~1\\AppData\\Local\\Temp/ipykernel_32360/399072955.py:3: SettingWithCopyWarning: \n",
      "A value is trying to be set on a copy of a slice from a DataFrame\n",
      "\n",
      "See the caveats in the documentation: https://pandas.pydata.org/pandas-docs/stable/user_guide/indexing.html#returning-a-view-versus-a-copy\n",
      "  testdata.Gender[testdata.Gender == 'Male'] = 1\n",
      "C:\\Users\\TUCK_W~1\\AppData\\Local\\Temp/ipykernel_32360/399072955.py:4: SettingWithCopyWarning: \n",
      "A value is trying to be set on a copy of a slice from a DataFrame\n",
      "\n",
      "See the caveats in the documentation: https://pandas.pydata.org/pandas-docs/stable/user_guide/indexing.html#returning-a-view-versus-a-copy\n",
      "  testdata.Gender[testdata.Gender == 'Female'] = 0\n"
     ]
    },
    {
     "data": {
      "text/plain": [
       "Text(89.18, 0.5, 'Predicted')"
      ]
     },
     "execution_count": 104,
     "metadata": {},
     "output_type": "execute_result"
    },
    {
     "data": {
      "image/png": "[encoded data removed]",
      "text/plain": [
       "<Figure size 432x288 with 1 Axes>"
      ]
     },
     "metadata": {},
     "output_type": "display_data"
    }
   ],
   "source": [
    "testdata = pd.read_csv('./data/iphone_purchase_records_testdata.csv')\n",
    "\n",
    "testdata.Gender[testdata.Gender == 'Male'] = 1\n",
    "testdata.Gender[testdata.Gender == 'Female'] = 0\n",
    "\n",
    "# get xtest and ytest only Array Values from df\n",
    "xtest = testdata.drop('Purchase Iphone', axis=1).values\n",
    "ytest = testdata.loc[:, 'Purchase Iphone'].values\n",
    "\n",
    "nb = GaussianNB()\n",
    "\n",
    "# Train the model \n",
    "nb.fit(X_train, y_train)\n",
    "\n",
    "# Predict Output with t-test data\n",
    "y_predicted = nb.predict(xtest)\n",
    "\n",
    "# Plot Confusion Matrix\n",
    "mat = confusion_matrix(y_predicted, ytest)\n",
    "\n",
    "sns.heatmap(mat.T, square=True, annot=True, fmt='d', cbar=False)\n",
    "\n",
    "plt.xlabel('Truth')\n",
    "plt.ylabel('Predicted')\n",
    "\n",
    "\n"
   ]
  },
  {
   "cell_type": "code",
   "execution_count": 107,
   "metadata": {},
   "outputs": [
    {
     "data": {
      "text/plain": [
       "array([[1, 29, 12000],\n",
       "       [1, 15, 23000],\n",
       "       [0, 16, 49000],\n",
       "       [0, 26, 57000],\n",
       "       [1, 16, 36000],\n",
       "       [1, 28, 38000],\n",
       "       [0, 22, 82000],\n",
       "       [0, 33, 120000],\n",
       "       [1, 29, 73000],\n",
       "       [0, 25, 45000],\n",
       "       [0, 28, 90000],\n",
       "       [0, 29, 42000],\n",
       "       [1, 30, 76000],\n",
       "       [1, 32, 18000]], dtype=object)"
      ]
     },
     "metadata": {},
     "output_type": "display_data"
    }
   ],
   "source": [
    "display(xtest)\n",
    "#display(xtest_n)"
   ]
  },
  {
   "cell_type": "code",
   "execution_count": 105,
   "metadata": {},
   "outputs": [
    {
     "name": "stdout",
     "output_type": "stream",
     "text": [
      "Accuracy:1.000000\n"
     ]
    }
   ],
   "source": [
    "#xtest_n = xtest.to_numpy()\n",
    "#ytest_n = ytest.to_numpy()\n",
    "#score_nb = accuracy_score(ytest_n,nb.predict(xtest_n))\n",
    "#print('Accuracy:{0:f}'.format(score_nb))\n",
    "\n",
    "score_nb = accuracy_score(ytest,nb.predict(xtest))\n",
    "print('Accuracy:{0:f}'.format(score_nb))"
   ]
  }
 ],
 "metadata": {
  "kernelspec": {
   "display_name": "Python 3 (ipykernel)",
   "language": "python",
   "name": "python3"
  },
  "language_info": {
   "codemirror_mode": {
    "name": "ipython",
    "version": 3
   },
   "file_extension": ".py",
   "mimetype": "text/x-python",
   "name": "python",
   "nbconvert_exporter": "python",
   "pygments_lexer": "ipython3",
   "version": "3.8.12"
  }
 },
 "nbformat": 4,
 "nbformat_minor": 4
}
