{
 "cells": [
  {
   "cell_type": "code",
   "execution_count": 6,
   "id": "6c8ec1e6",
   "metadata": {},
   "outputs": [],
   "source": [
    "import pandas as pd\n",
    "\n",
    "seeds_df = pd.read_csv('Data/seeds.csv')\n",
    "# forget about the grain variety for the moment - we'll use this later\n",
    "\n",
    "#varieties = seeds_df['grain_variety']\n",
    "\n",
    "#del seeds_df['grain_variety']"
   ]
  },
  {
   "cell_type": "code",
   "execution_count": 9,
   "id": "31ef187b",
   "metadata": {},
   "outputs": [],
   "source": [
    "dataset = seeds_df.values\n",
    "X = dataset[:,:7].astype(float)\n",
    "Y = dataset[:,7]"
   ]
  },
  {
   "cell_type": "code",
   "execution_count": 10,
   "id": "9c1846fc",
   "metadata": {},
   "outputs": [
    {
     "data": {
      "text/plain": [
       "array([[15.26  , 14.84  ,  0.871 , ...,  3.312 ,  2.221 ,  5.22  ],\n",
       "       [14.88  , 14.57  ,  0.8811, ...,  3.333 ,  1.018 ,  4.956 ],\n",
       "       [14.29  , 14.09  ,  0.905 , ...,  3.337 ,  2.699 ,  4.825 ],\n",
       "       ...,\n",
       "       [13.2   , 13.66  ,  0.8883, ...,  3.232 ,  8.315 ,  5.056 ],\n",
       "       [11.84  , 13.21  ,  0.8521, ...,  2.836 ,  3.598 ,  5.044 ],\n",
       "       [12.3   , 13.34  ,  0.8684, ...,  2.974 ,  5.637 ,  5.063 ]])"
      ]
     },
     "metadata": {},
     "output_type": "display_data"
    },
    {
     "data": {
      "text/plain": [
       "array(['Kama wheat', 'Kama wheat', 'Kama wheat', 'Kama wheat',\n",
       "       'Kama wheat', 'Kama wheat', 'Kama wheat', 'Kama wheat',\n",
       "       'Kama wheat', 'Kama wheat', 'Kama wheat', 'Kama wheat',\n",
       "       'Kama wheat', 'Kama wheat', 'Kama wheat', 'Kama wheat',\n",
       "       'Kama wheat', 'Kama wheat', 'Kama wheat', 'Kama wheat',\n",
       "       'Kama wheat', 'Kama wheat', 'Kama wheat', 'Kama wheat',\n",
       "       'Kama wheat', 'Kama wheat', 'Kama wheat', 'Kama wheat',\n",
       "       'Kama wheat', 'Kama wheat', 'Kama wheat', 'Kama wheat',\n",
       "       'Kama wheat', 'Kama wheat', 'Kama wheat', 'Kama wheat',\n",
       "       'Kama wheat', 'Kama wheat', 'Kama wheat', 'Kama wheat',\n",
       "       'Kama wheat', 'Kama wheat', 'Kama wheat', 'Kama wheat',\n",
       "       'Kama wheat', 'Kama wheat', 'Kama wheat', 'Kama wheat',\n",
       "       'Kama wheat', 'Kama wheat', 'Kama wheat', 'Kama wheat',\n",
       "       'Kama wheat', 'Kama wheat', 'Kama wheat', 'Kama wheat',\n",
       "       'Kama wheat', 'Kama wheat', 'Kama wheat', 'Kama wheat',\n",
       "       'Kama wheat', 'Kama wheat', 'Kama wheat', 'Kama wheat',\n",
       "       'Kama wheat', 'Kama wheat', 'Kama wheat', 'Kama wheat',\n",
       "       'Kama wheat', 'Kama wheat', 'Rosa wheat', 'Rosa wheat',\n",
       "       'Rosa wheat', 'Rosa wheat', 'Rosa wheat', 'Rosa wheat',\n",
       "       'Rosa wheat', 'Rosa wheat', 'Rosa wheat', 'Rosa wheat',\n",
       "       'Rosa wheat', 'Rosa wheat', 'Rosa wheat', 'Rosa wheat',\n",
       "       'Rosa wheat', 'Rosa wheat', 'Rosa wheat', 'Rosa wheat',\n",
       "       'Rosa wheat', 'Rosa wheat', 'Rosa wheat', 'Rosa wheat',\n",
       "       'Rosa wheat', 'Rosa wheat', 'Rosa wheat', 'Rosa wheat',\n",
       "       'Rosa wheat', 'Rosa wheat', 'Rosa wheat', 'Rosa wheat',\n",
       "       'Rosa wheat', 'Rosa wheat', 'Rosa wheat', 'Rosa wheat',\n",
       "       'Rosa wheat', 'Rosa wheat', 'Rosa wheat', 'Rosa wheat',\n",
       "       'Rosa wheat', 'Rosa wheat', 'Rosa wheat', 'Rosa wheat',\n",
       "       'Rosa wheat', 'Rosa wheat', 'Rosa wheat', 'Rosa wheat',\n",
       "       'Rosa wheat', 'Rosa wheat', 'Rosa wheat', 'Rosa wheat',\n",
       "       'Rosa wheat', 'Rosa wheat', 'Rosa wheat', 'Rosa wheat',\n",
       "       'Rosa wheat', 'Rosa wheat', 'Rosa wheat', 'Rosa wheat',\n",
       "       'Rosa wheat', 'Rosa wheat', 'Rosa wheat', 'Rosa wheat',\n",
       "       'Rosa wheat', 'Rosa wheat', 'Rosa wheat', 'Rosa wheat',\n",
       "       'Rosa wheat', 'Rosa wheat', 'Rosa wheat', 'Rosa wheat',\n",
       "       'Canadian wheat', 'Canadian wheat', 'Canadian wheat',\n",
       "       'Canadian wheat', 'Canadian wheat', 'Canadian wheat',\n",
       "       'Canadian wheat', 'Canadian wheat', 'Canadian wheat',\n",
       "       'Canadian wheat', 'Canadian wheat', 'Canadian wheat',\n",
       "       'Canadian wheat', 'Canadian wheat', 'Canadian wheat',\n",
       "       'Canadian wheat', 'Canadian wheat', 'Canadian wheat',\n",
       "       'Canadian wheat', 'Canadian wheat', 'Canadian wheat',\n",
       "       'Canadian wheat', 'Canadian wheat', 'Canadian wheat',\n",
       "       'Canadian wheat', 'Canadian wheat', 'Canadian wheat',\n",
       "       'Canadian wheat', 'Canadian wheat', 'Canadian wheat',\n",
       "       'Canadian wheat', 'Canadian wheat', 'Canadian wheat',\n",
       "       'Canadian wheat', 'Canadian wheat', 'Canadian wheat',\n",
       "       'Canadian wheat', 'Canadian wheat', 'Canadian wheat',\n",
       "       'Canadian wheat', 'Canadian wheat', 'Canadian wheat',\n",
       "       'Canadian wheat', 'Canadian wheat', 'Canadian wheat',\n",
       "       'Canadian wheat', 'Canadian wheat', 'Canadian wheat',\n",
       "       'Canadian wheat', 'Canadian wheat', 'Canadian wheat',\n",
       "       'Canadian wheat', 'Canadian wheat', 'Canadian wheat',\n",
       "       'Canadian wheat', 'Canadian wheat', 'Canadian wheat',\n",
       "       'Canadian wheat', 'Canadian wheat', 'Canadian wheat',\n",
       "       'Canadian wheat', 'Canadian wheat', 'Canadian wheat',\n",
       "       'Canadian wheat', 'Canadian wheat', 'Canadian wheat',\n",
       "       'Canadian wheat', 'Canadian wheat', 'Canadian wheat',\n",
       "       'Canadian wheat'], dtype=object)"
      ]
     },
     "execution_count": 10,
     "metadata": {},
     "output_type": "execute_result"
    }
   ],
   "source": [
    "display(X)\n",
    "Y"
   ]
  },
  {
   "cell_type": "code",
   "execution_count": 13,
   "id": "4e4d2814",
   "metadata": {},
   "outputs": [],
   "source": [
    "from sklearn.preprocessing import LabelEncoder\n",
    "from keras.utils import np_utils\n",
    "\n",
    "\n",
    "encoder = LabelEncoder()\n",
    "encoder.fit(Y)\n",
    "encoded_Y = encoder.transform(Y)\n",
    "dummy_y = np_utils.to_categorical(encoded_Y)"
   ]
  },
  {
   "cell_type": "code",
   "execution_count": 18,
   "id": "48ab013c",
   "metadata": {},
   "outputs": [
    {
     "name": "stderr",
     "output_type": "stream",
     "text": [
      "C:\\Users\\TUCK_W~1\\AppData\\Local\\Temp/ipykernel_36276/1728701947.py:11: DeprecationWarning: KerasClassifier is deprecated, use Sci-Keras (https://github.com/adriangb/scikeras) instead. See https://www.adriangb.com/scikeras/stable/migration.html for help migrating.\n",
      "  estimator = KerasClassifier(build_fn=baseline_model, epochs=200, batch_size=5, verbose=0)\n"
     ]
    },
    {
     "name": "stdout",
     "output_type": "stream",
     "text": [
      "Baseline: 90.00% (6.19%)\n"
     ]
    }
   ],
   "source": [
    "from sklearn.model_selection import cross_val_score\n",
    "from keras.wrappers.scikit_learn import KerasClassifier\n",
    "\n",
    "def baseline_model():\n",
    "    model = Sequential()\n",
    "    model.add(Dense(8, input_dim=7, activation='relu'))\n",
    "    model.add(Dense(3, activation='softmax'))\n",
    "    model.compile(loss='categorical_crossentropy',optimizer='adam',metrics=['accuracy'])\n",
    "    return model\n",
    "\n",
    "estimator = KerasClassifier(build_fn=baseline_model, epochs=200, batch_size=5, verbose=0)\n",
    "kfold = KFold(n_splits=10, shuffle=True)\n",
    "results = cross_val_score(estimator, X, Y, cv=kfold)\n",
    "print(\"Baseline: %.2f%% (%.2f%%)\" % (results.mean()*100, results.std()*100))"
   ]
  }
 ],
 "metadata": {
  "kernelspec": {
   "display_name": "Python 3 (ipykernel)",
   "language": "python",
   "name": "python3"
  },
  "language_info": {
   "codemirror_mode": {
    "name": "ipython",
    "version": 3
   },
   "file_extension": ".py",
   "mimetype": "text/x-python",
   "name": "python",
   "nbconvert_exporter": "python",
   "pygments_lexer": "ipython3",
   "version": "3.8.12"
  }
 },
 "nbformat": 4,
 "nbformat_minor": 5
}
